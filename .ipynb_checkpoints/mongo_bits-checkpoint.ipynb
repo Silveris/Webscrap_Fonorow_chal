{
 "cells": [
  {
   "cell_type": "code",
   "execution_count": 20,
   "metadata": {},
   "outputs": [],
   "source": [
    "import pymongo\n",
    "import scrape"
   ]
  },
  {
   "cell_type": "code",
   "execution_count": 21,
   "metadata": {},
   "outputs": [],
   "source": [
    "# Initialize PyMongo to work with MongoDBs\n",
    "conn = 'mongodb://localhost:27017'\n",
    "client = pymongo.MongoClient(conn)"
   ]
  },
  {
   "cell_type": "code",
   "execution_count": 22,
   "metadata": {},
   "outputs": [],
   "source": [
    "# Define database and collection\n",
    "db = client.mars_db\n",
    "collection = db.items"
   ]
  },
  {
   "cell_type": "code",
   "execution_count": 23,
   "metadata": {},
   "outputs": [
    {
     "name": "stdout",
     "output_type": "stream",
     "text": [
      "Done with the browser\n"
     ]
    }
   ],
   "source": [
    "data = scrape.scrape()"
   ]
  },
  {
   "cell_type": "code",
   "execution_count": 25,
   "metadata": {},
   "outputs": [
    {
     "name": "stdout",
     "output_type": "stream",
     "text": [
      "[[\"The Launch Is Approaching for NASA's Next Mars Rover, Perseverance\", \"The Red Planet's surface has been visited by eight NASA spacecraft. The ninth will be the first that includes a roundtrip ticket in its flight plan. \"], ['Galactic Wheels within Wheels', 'https://www.jpl.nasa.gov/spaceimages/images/mediumsize/PIA17011_ip.jpg'], 'InSight sol 554 (2020-06-17) low -92.4ºC (-134.3ºF) high -4.0ºC (24.9ºF)\\nwinds from the SW at 5.9 m/s (13.2 mph) gusting to 17.1 m/s (38.2 mph)\\npressure at 7.50 hPa', '<table border=\"1\" class=\"dataframe\">\\n  <thead>\\n    <tr style=\"text-align: right;\">\\n      <th></th>\\n      <th>Equatorial Diameter:</th>\\n      <th>Polar Diameter:</th>\\n      <th>Mass:</th>\\n      <th>Moons:</th>\\n      <th>Orbit Distance:</th>\\n      <th>Orbit Period:</th>\\n      <th>Surface Temperature:</th>\\n      <th>First Record:</th>\\n      <th>Recorded By:</th>\\n    </tr>\\n  </thead>\\n  <tbody>\\n    <tr>\\n      <th>0</th>\\n      <td>6,792 km</td>\\n      <td>6,752 km</td>\\n      <td>6.39 × 10^23 kg (0.11 Earths)</td>\\n      <td>2 (Phobos &amp; Deimos)</td>\\n      <td>227,943,824 km (1.38 AU)</td>\\n      <td>687 days (1.9 years)</td>\\n      <td>-87 to -5 °C</td>\\n      <td>2nd millennium BC</td>\\n      <td>Egyptian astronomers</td>\\n    </tr>\\n  </tbody>\\n</table>', [{'title': 'Cerberus Hemisphere Enhanced', 'img_url': 'https://astropedia.astrogeology.usgs.gov/download/Mars/Viking/cerberus_enhanced.tif/full.jpg'}, {'title': 'Schiaparelli Hemisphere Enhanced', 'img_url': 'https://astropedia.astrogeology.usgs.gov/download/Mars/Viking/schiaparelli_enhanced.tif/full.jpg'}, {'title': 'Syrtis Major Hemisphere Enhanced', 'img_url': 'https://astropedia.astrogeology.usgs.gov/download/Mars/Viking/syrtis_major_enhanced.tif/full.jpg'}, {'title': 'Valles Marineris Hemisphere Enhanced', 'img_url': 'https://astropedia.astrogeology.usgs.gov/download/Mars/Viking/valles_marineris_enhanced.tif/full.jpg'}]]\n"
     ]
    }
   ],
   "source": [
    "print(data)"
   ]
  },
  {
   "cell_type": "code",
   "execution_count": 26,
   "metadata": {},
   "outputs": [
    {
     "ename": "TypeError",
     "evalue": "list indices must be integers or slices, not str",
     "output_type": "error",
     "traceback": [
      "\u001b[1;31m---------------------------------------------------------------------------\u001b[0m",
      "\u001b[1;31mTypeError\u001b[0m                                 Traceback (most recent call last)",
      "\u001b[1;32m<ipython-input-26-41e8a41908d1>\u001b[0m in \u001b[0;36m<module>\u001b[1;34m\u001b[0m\n\u001b[0;32m      1\u001b[0m \u001b[1;31m# news [title, text]\u001b[0m\u001b[1;33m\u001b[0m\u001b[1;33m\u001b[0m\u001b[1;33m\u001b[0m\u001b[0m\n\u001b[1;32m----> 2\u001b[1;33m \u001b[0mprint\u001b[0m\u001b[1;33m(\u001b[0m\u001b[0mdata\u001b[0m\u001b[1;33m[\u001b[0m\u001b[1;34m'news'\u001b[0m\u001b[1;33m]\u001b[0m\u001b[1;33m[\u001b[0m\u001b[1;36m0\u001b[0m\u001b[1;33m]\u001b[0m\u001b[1;33m)\u001b[0m\u001b[1;33m\u001b[0m\u001b[1;33m\u001b[0m\u001b[0m\n\u001b[0m\u001b[0;32m      3\u001b[0m \u001b[0mprint\u001b[0m\u001b[1;33m(\u001b[0m\u001b[0mdata\u001b[0m\u001b[1;33m[\u001b[0m\u001b[1;34m'news'\u001b[0m\u001b[1;33m]\u001b[0m\u001b[1;33m[\u001b[0m\u001b[1;36m1\u001b[0m\u001b[1;33m]\u001b[0m\u001b[1;33m)\u001b[0m\u001b[1;33m\u001b[0m\u001b[1;33m\u001b[0m\u001b[0m\n",
      "\u001b[1;31mTypeError\u001b[0m: list indices must be integers or slices, not str"
     ]
    }
   ],
   "source": [
    "# news [title, text]\n",
    "print(data['news'][0])\n",
    "print(data['news'][1])"
   ]
  },
  {
   "cell_type": "code",
   "execution_count": 8,
   "metadata": {},
   "outputs": [
    {
     "data": {
      "text/plain": [
       "[\"'John Klein' Site Selected for Curiosity's Drill Debut\",\n",
       " 'https://www.jpl.nasa.gov/spaceimages/images/mediumsize/PIA16567_ip.jpg']"
      ]
     },
     "execution_count": 8,
     "metadata": {},
     "output_type": "execute_result"
    }
   ],
   "source": [
    "# img [title, url]\n",
    "print(data['img'][0])\n",
    "print(data['img'][1])"
   ]
  },
  {
   "cell_type": "code",
   "execution_count": 9,
   "metadata": {},
   "outputs": [
    {
     "data": {
      "text/plain": [
       "'InSight sol 554 (2020-06-17) low -92.4ºC (-134.3ºF) high -4.0ºC (24.9ºF)\\nwinds from the SW at 5.9 m/s (13.2 mph) gusting to 17.1 m/s (38.2 mph)\\npressure at 7.50 hPa'"
      ]
     },
     "execution_count": 9,
     "metadata": {},
     "output_type": "execute_result"
    }
   ],
   "source": [
    "# weather - string\n",
    "print(data['weather'])"
   ]
  },
  {
   "cell_type": "code",
   "execution_count": 10,
   "metadata": {},
   "outputs": [
    {
     "data": {
      "text/plain": [
       "'<table border=\"1\" class=\"dataframe\">\\n  <thead>\\n    <tr style=\"text-align: right;\">\\n      <th></th>\\n      <th>Equatorial Diameter:</th>\\n      <th>Polar Diameter:</th>\\n      <th>Mass:</th>\\n      <th>Moons:</th>\\n      <th>Orbit Distance:</th>\\n      <th>Orbit Period:</th>\\n      <th>Surface Temperature:</th>\\n      <th>First Record:</th>\\n      <th>Recorded By:</th>\\n    </tr>\\n  </thead>\\n  <tbody>\\n    <tr>\\n      <th>0</th>\\n      <td>6,792 km</td>\\n      <td>6,752 km</td>\\n      <td>6.39 × 10^23 kg (0.11 Earths)</td>\\n      <td>2 (Phobos &amp; Deimos)</td>\\n      <td>227,943,824 km (1.38 AU)</td>\\n      <td>687 days (1.9 years)</td>\\n      <td>-87 to -5 °C</td>\\n      <td>2nd millennium BC</td>\\n      <td>Egyptian astronomers</td>\\n    </tr>\\n  </tbody>\\n</table>'"
      ]
     },
     "execution_count": 10,
     "metadata": {},
     "output_type": "execute_result"
    }
   ],
   "source": [
    "# facts - html table\n",
    "print(data['facts'])"
   ]
  },
  {
   "cell_type": "code",
   "execution_count": 11,
   "metadata": {},
   "outputs": [
    {
     "data": {
      "text/plain": [
       "[{'title': 'Cerberus Hemisphere Enhanced',\n",
       "  'img_url': 'https://astropedia.astrogeology.usgs.gov/download/Mars/Viking/cerberus_enhanced.tif/full.jpg'},\n",
       " {'title': 'Schiaparelli Hemisphere Enhanced',\n",
       "  'img_url': 'https://astropedia.astrogeology.usgs.gov/download/Mars/Viking/schiaparelli_enhanced.tif/full.jpg'},\n",
       " {'title': 'Syrtis Major Hemisphere Enhanced',\n",
       "  'img_url': 'https://astropedia.astrogeology.usgs.gov/download/Mars/Viking/syrtis_major_enhanced.tif/full.jpg'},\n",
       " {'title': 'Valles Marineris Hemisphere Enhanced',\n",
       "  'img_url': 'https://astropedia.astrogeology.usgs.gov/download/Mars/Viking/valles_marineris_enhanced.tif/full.jpg'}]"
      ]
     },
     "execution_count": 11,
     "metadata": {},
     "output_type": "execute_result"
    }
   ],
   "source": [
    "# hemispheres {title : string, img_url : url-string}\n",
    "print(data['hemi'][0])"
   ]
  },
  {
   "cell_type": "code",
   "execution_count": 17,
   "metadata": {},
   "outputs": [
    {
     "data": {
      "text/plain": [
       "<pymongo.results.InsertOneResult at 0x1701abe4f08>"
      ]
     },
     "execution_count": 17,
     "metadata": {},
     "output_type": "execute_result"
    }
   ],
   "source": [
    "collection.insert_one(data)"
   ]
  },
  {
   "cell_type": "code",
   "execution_count": 19,
   "metadata": {},
   "outputs": [
    {
     "data": {
      "text/plain": [
       "[{'_id': ObjectId('5eec0b6b2b0607ee7bec2aef'),\n",
       "  'data': [[\"The Launch Is Approaching for NASA's Next Mars Rover, Perseverance\",\n",
       "    \"The Red Planet's surface has been visited by eight NASA spacecraft. The ninth will be the first that includes a roundtrip ticket in its flight plan. \"],\n",
       "   [\"'John Klein' Site Selected for Curiosity's Drill Debut\",\n",
       "    'https://www.jpl.nasa.gov/spaceimages/images/mediumsize/PIA16567_ip.jpg'],\n",
       "   'InSight sol 554 (2020-06-17) low -92.4ºC (-134.3ºF) high -4.0ºC (24.9ºF)\\nwinds from the SW at 5.9 m/s (13.2 mph) gusting to 17.1 m/s (38.2 mph)\\npressure at 7.50 hPa',\n",
       "   '<table border=\"1\" class=\"dataframe\">\\n  <thead>\\n    <tr style=\"text-align: right;\">\\n      <th></th>\\n      <th>Equatorial Diameter:</th>\\n      <th>Polar Diameter:</th>\\n      <th>Mass:</th>\\n      <th>Moons:</th>\\n      <th>Orbit Distance:</th>\\n      <th>Orbit Period:</th>\\n      <th>Surface Temperature:</th>\\n      <th>First Record:</th>\\n      <th>Recorded By:</th>\\n    </tr>\\n  </thead>\\n  <tbody>\\n    <tr>\\n      <th>0</th>\\n      <td>6,792 km</td>\\n      <td>6,752 km</td>\\n      <td>6.39 × 10^23 kg (0.11 Earths)</td>\\n      <td>2 (Phobos &amp; Deimos)</td>\\n      <td>227,943,824 km (1.38 AU)</td>\\n      <td>687 days (1.9 years)</td>\\n      <td>-87 to -5 °C</td>\\n      <td>2nd millennium BC</td>\\n      <td>Egyptian astronomers</td>\\n    </tr>\\n  </tbody>\\n</table>',\n",
       "   [{'title': 'Cerberus Hemisphere Enhanced',\n",
       "     'img_url': 'https://astropedia.astrogeology.usgs.gov/download/Mars/Viking/cerberus_enhanced.tif/full.jpg'},\n",
       "    {'title': 'Schiaparelli Hemisphere Enhanced',\n",
       "     'img_url': 'https://astropedia.astrogeology.usgs.gov/download/Mars/Viking/schiaparelli_enhanced.tif/full.jpg'},\n",
       "    {'title': 'Syrtis Major Hemisphere Enhanced',\n",
       "     'img_url': 'https://astropedia.astrogeology.usgs.gov/download/Mars/Viking/syrtis_major_enhanced.tif/full.jpg'},\n",
       "    {'title': 'Valles Marineris Hemisphere Enhanced',\n",
       "     'img_url': 'https://astropedia.astrogeology.usgs.gov/download/Mars/Viking/valles_marineris_enhanced.tif/full.jpg'}]]}]"
      ]
     },
     "execution_count": 19,
     "metadata": {},
     "output_type": "execute_result"
    }
   ],
   "source": [
    "list(collection.find())"
   ]
  },
  {
   "cell_type": "code",
   "execution_count": null,
   "metadata": {},
   "outputs": [],
   "source": []
  }
 ],
 "metadata": {
  "kernelspec": {
   "display_name": "Python 3",
   "language": "python",
   "name": "python3"
  },
  "language_info": {
   "codemirror_mode": {
    "name": "ipython",
    "version": 3
   },
   "file_extension": ".py",
   "mimetype": "text/x-python",
   "name": "python",
   "nbconvert_exporter": "python",
   "pygments_lexer": "ipython3",
   "version": "3.7.6"
  }
 },
 "nbformat": 4,
 "nbformat_minor": 4
}
